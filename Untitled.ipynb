{
 "cells": [
  {
   "cell_type": "code",
   "execution_count": 77,
   "id": "c694b694",
   "metadata": {},
   "outputs": [],
   "source": [
    "import scipy as sc\n",
    "import sympy as sy\n",
    "\n"
   ]
  },
  {
   "cell_type": "code",
   "execution_count": 170,
   "id": "f5095ee2",
   "metadata": {},
   "outputs": [],
   "source": [
    "xn = 1.5\n"
   ]
  },
  {
   "cell_type": "code",
   "execution_count": 171,
   "id": "77be0875",
   "metadata": {
    "scrolled": true
   },
   "outputs": [],
   "source": [
    "g = lambda x: (x+2)**(1/3) "
   ]
  },
  {
   "cell_type": "code",
   "execution_count": 172,
   "id": "1202b325",
   "metadata": {},
   "outputs": [
    {
     "name": "stdout",
     "output_type": "stream",
     "text": [
      "1.5182944859378311\n"
     ]
    }
   ],
   "source": [
    "xn = g(xn) ; print(xn)"
   ]
  },
  {
   "cell_type": "code",
   "execution_count": 173,
   "id": "864cf693",
   "metadata": {},
   "outputs": [
    {
     "name": "stdout",
     "output_type": "stream",
     "text": [
      "1.520935263216892\n"
     ]
    }
   ],
   "source": [
    "xn = g(xn) ; print(xn)"
   ]
  },
  {
   "cell_type": "code",
   "execution_count": 174,
   "id": "5587a2ff",
   "metadata": {},
   "outputs": [
    {
     "name": "stdout",
     "output_type": "stream",
     "text": [
      "1.52131569819048\n"
     ]
    }
   ],
   "source": [
    "xn = g(xn) ; print(xn)"
   ]
  },
  {
   "cell_type": "code",
   "execution_count": 175,
   "id": "a0fbd5f9",
   "metadata": {},
   "outputs": [
    {
     "name": "stdout",
     "output_type": "stream",
     "text": [
      "1.5213704886377613\n"
     ]
    }
   ],
   "source": [
    "xn = g(xn) ; print(xn)"
   ]
  },
  {
   "cell_type": "code",
   "execution_count": 176,
   "id": "45832cc1",
   "metadata": {},
   "outputs": [
    {
     "name": "stdout",
     "output_type": "stream",
     "text": [
      "1.521378379262021\n"
     ]
    }
   ],
   "source": [
    "xn = g(xn) ; print(xn)"
   ]
  },
  {
   "cell_type": "code",
   "execution_count": null,
   "id": "388bb2c7",
   "metadata": {},
   "outputs": [],
   "source": []
  },
  {
   "cell_type": "code",
   "execution_count": null,
   "id": "9ef37bc4",
   "metadata": {},
   "outputs": [],
   "source": []
  },
  {
   "cell_type": "code",
   "execution_count": null,
   "id": "75776c1d",
   "metadata": {},
   "outputs": [],
   "source": []
  }
 ],
 "metadata": {
  "kernelspec": {
   "display_name": "Python 3 (ipykernel)",
   "language": "python",
   "name": "python3"
  },
  "language_info": {
   "codemirror_mode": {
    "name": "ipython",
    "version": 3
   },
   "file_extension": ".py",
   "mimetype": "text/x-python",
   "name": "python",
   "nbconvert_exporter": "python",
   "pygments_lexer": "ipython3",
   "version": "3.9.7"
  }
 },
 "nbformat": 4,
 "nbformat_minor": 5
}
