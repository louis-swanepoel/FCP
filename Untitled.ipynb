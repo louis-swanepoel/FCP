{
 "cells": [
  {
   "cell_type": "code",
   "execution_count": 1,
   "id": "c694b694",
   "metadata": {},
   "outputs": [],
   "source": [
    "# import names as nm\n",
    "import pandas as pd \n",
    "import random as r\n",
    "import assignments as s\n",
    "\n",
    "\n"
   ]
  },
  {
   "cell_type": "code",
   "execution_count": 59,
   "id": "77be0875",
   "metadata": {},
   "outputs": [],
   "source": [
    "StudentsList = []\n",
    "for i in range(1,PopulationSize):\n",
    "    StudentsList.append = vars(s.StudentObjects[i])\n",
    "print(StudentsList)\n",
    "\n",
    "# Creation of empty variable list for column creation\n",
    "Columns = []\n",
    "\n",
    "# Create empty dictionary for values of each column for each student\n",
    "StudentsDict = {}\n",
    "\n",
    "# Iterates through the attributes of each student defined by the Person class and assigns an empty list to each one\n",
    "for keys, values in vars(s.StudentObjects[0]).items():\n",
    "    Columns.append(keys)\n",
    "    StudentsDict[keys] = []\n",
    "    \n",
    "\n",
    "\n",
    "# Iterate through Student Numbers \n",
    "for StudentNumber in range(s.PopulationSize):  \n",
    "    \n",
    "    # Extract Student as an object \n",
    "    StudentInfo = s.StudentObjects[StudentNumber]\n",
    "    \n",
    "     \n",
    "    \n",
    "    Extract student attributes iteratively and add to the list which is a value of the attribute key\n",
    "    for Column in Columns:\n",
    "        value = getattr(StudentInfo, Column)\n",
    "        StudentsDict[Column].append(value)\n",
    "        \n",
    "        \n"
   ]
  },
  {
   "cell_type": "code",
   "execution_count": 58,
   "id": "e2f39d0a",
   "metadata": {},
   "outputs": [
    {
     "data": {
      "text/html": [
       "<div>\n",
       "<style scoped>\n",
       "    .dataframe tbody tr th:only-of-type {\n",
       "        vertical-align: middle;\n",
       "    }\n",
       "\n",
       "    .dataframe tbody tr th {\n",
       "        vertical-align: top;\n",
       "    }\n",
       "\n",
       "    .dataframe thead th {\n",
       "        text-align: right;\n",
       "    }\n",
       "</style>\n",
       "<table border=\"1\" class=\"dataframe\">\n",
       "  <thead>\n",
       "    <tr style=\"text-align: right;\">\n",
       "      <th></th>\n",
       "      <th>StudentNumber</th>\n",
       "      <th>Halls</th>\n",
       "      <th>Origin</th>\n",
       "      <th>Name</th>\n",
       "      <th>SIR</th>\n",
       "      <th>Course</th>\n",
       "      <th>Social</th>\n",
       "    </tr>\n",
       "  </thead>\n",
       "  <tbody>\n",
       "    <tr>\n",
       "      <th>1</th>\n",
       "      <td>1</td>\n",
       "      <td>West</td>\n",
       "      <td>UK</td>\n",
       "      <td>Christopher</td>\n",
       "      <td>S</td>\n",
       "      <td>STEM</td>\n",
       "      <td>8</td>\n",
       "    </tr>\n",
       "  </tbody>\n",
       "</table>\n",
       "</div>"
      ],
      "text/plain": [
       "   StudentNumber Halls Origin         Name SIR Course  Social\n",
       "1              1  West     UK  Christopher   S   STEM       8"
      ]
     },
     "execution_count": 58,
     "metadata": {},
     "output_type": "execute_result"
    }
   ],
   "source": [
    "df = pd.DataFrame(StudentsDict) \n",
    "df.iloc[[1]]"
   ]
  },
  {
   "cell_type": "code",
   "execution_count": null,
   "id": "1202b325",
   "metadata": {},
   "outputs": [],
   "source": [
    "for keys, values in StudentsDict.items():\n",
    "    print('keys;', keys)\n",
    "    \n",
    "    \n",
    "\n",
    "\n",
    "# PopulationIndependentData.style\n",
    "\n",
    "# print(PopulationIndependentData)\n",
    "def CreateCSVRawData(StudentsDict):\n",
    "    PopulationIndependentData = pd.DataFrame(StudentsDict) \n",
    "    print(PopulationIndependentData.head())\n",
    "    # PopulationIndependentData.to_excel('RawIndependentPopDataCSV.xlsx', index=True)\n",
    "    # print(StudentsDict[1])"
   ]
  }
 ],
 "metadata": {
  "kernelspec": {
   "display_name": "Python 3 (ipykernel)",
   "language": "python",
   "name": "python3"
  },
  "language_info": {
   "codemirror_mode": {
    "name": "ipython",
    "version": 3
   },
   "file_extension": ".py",
   "mimetype": "text/x-python",
   "name": "python",
   "nbconvert_exporter": "python",
   "pygments_lexer": "ipython3",
   "version": "3.9.7"
  }
 },
 "nbformat": 4,
 "nbformat_minor": 5
}
