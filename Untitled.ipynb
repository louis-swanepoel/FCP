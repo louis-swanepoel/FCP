{
 "cells": [
  {
   "cell_type": "code",
   "execution_count": 120,
   "id": "c694b694",
   "metadata": {},
   "outputs": [],
   "source": [
    "# import names as nm\n",
    "import pandas as pd \n",
    "import random as r\n",
    "import assignments as s\n",
    "import numpy as np \n",
    "import plotly.express as ply\n",
    "import Metrics as m\n",
    "\n"
   ]
  },
  {
   "cell_type": "code",
   "execution_count": 136,
   "id": "d7d9d0b3",
   "metadata": {},
   "outputs": [
    {
     "name": "stdout",
     "output_type": "stream",
     "text": [
      "     StudentNumber  Halls Origin         Name SIR Course  Social\n",
      "0                0  South     UK      Michael   S   ARTS       4\n",
      "1                1  South     UK  Christopher   S   ARTS      10\n",
      "2                2   East  China      Jessica   S   STEM       9\n",
      "3                3  North     UK      Matthew   S   ARTS       9\n",
      "4                4   West  China       Ashley   S   ARTS       7\n",
      "..             ...    ...    ...          ...  ..    ...     ...\n",
      "995            995  South  China         Mike   S   ARTS       5\n",
      "996            996  North     US        Chloe   S   ARTS       5\n",
      "997            997  South     UK       Alecia   I   ARTS      10\n",
      "998            998  South     UK          Sam   I   STEM       7\n",
      "999            999  South     EU        Rocio   S   STEM       2\n",
      "\n",
      "[1000 rows x 7 columns]\n"
     ]
    }
   ],
   "source": [
    "StudentInfoDataFrame = m.CreateDataFrame()\n",
    "print(StudentInfoDataFrame)"
   ]
  },
  {
   "cell_type": "code",
   "execution_count": 167,
   "id": "77be0875",
   "metadata": {
    "scrolled": true
   },
   "outputs": [
    {
     "name": "stdout",
     "output_type": "stream",
     "text": [
      "     StudentNumber  Halls Origin         Name SIR Course  Social\n",
      "0                0  South     UK      Michael   S   ARTS       4\n",
      "1                1  South     UK  Christopher   S   ARTS      10\n",
      "2                2   East  China      Jessica   S   STEM       9\n",
      "3                3  North     UK      Matthew   S   ARTS       9\n",
      "4                4   West  China       Ashley   S   ARTS       7\n",
      "..             ...    ...    ...          ...  ..    ...     ...\n",
      "992            992  North  China        Dusty   S   STEM       9\n",
      "994            994  South     UK     Adrianne   S   STEM       3\n",
      "995            995  South  China         Mike   S   ARTS       5\n",
      "996            996  North     US        Chloe   S   ARTS       5\n",
      "999            999  South     EU        Rocio   S   STEM       2\n",
      "\n",
      "[826 rows x 7 columns]\n"
     ]
    }
   ],
   "source": [
    "StudentInfoDataFrameFiltered = StudentInfoDataFrame[(StudentInfoDataFrame['SIR'] == 'S')&\n",
    "                                                    ~(StudentInfoDataFrame['Halls'] == None) ]\n",
    "print(StudentInfoDataFrameFiltered)        "
   ]
  },
  {
   "cell_type": "code",
   "execution_count": 168,
   "id": "1202b325",
   "metadata": {},
   "outputs": [
    {
     "name": "stdout",
     "output_type": "stream",
     "text": [
      "     StudentNumber  Halls Origin         Name SIR Course  Social\n",
      "0                0  South     UK      Michael   S   ARTS       4\n",
      "1                1  South     UK  Christopher   S   ARTS      10\n",
      "2                2   East  China      Jessica   S   STEM       9\n",
      "3                3  North     UK      Matthew   S   ARTS       9\n",
      "4                4   West  China       Ashley   S   ARTS       7\n",
      "..             ...    ...    ...          ...  ..    ...     ...\n",
      "992            992  North  China        Dusty   S   STEM       9\n",
      "994            994  South     UK     Adrianne   S   STEM       3\n",
      "995            995  South  China         Mike   S   ARTS       5\n",
      "996            996  North     US        Chloe   S   ARTS       5\n",
      "999            999  South     EU        Rocio   S   STEM       2\n",
      "\n",
      "[826 rows x 7 columns]\n"
     ]
    }
   ],
   "source": [
    "StudentInfoDataFrameFiltered = StudentInfoDataFrameFiltered[~(StudentInfoDataFrameFiltered['Halls'] == None) ]\n",
    "print(StudentInfoDataFrameFiltered)                                            "
   ]
  },
  {
   "cell_type": "code",
   "execution_count": 169,
   "id": "75192b05",
   "metadata": {},
   "outputs": [
    {
     "name": "stdout",
     "output_type": "stream",
     "text": [
      "     StudentNumber  Halls Origin         Name SIR Course  Social\n",
      "0                0  South     UK      Michael   S   ARTS       4\n",
      "1                1  South     UK  Christopher   S   ARTS      10\n",
      "3                3  North     UK      Matthew   S   ARTS       9\n",
      "4                4   West  China       Ashley   S   ARTS       7\n",
      "5                5   West     UK     Jennifer   S   ARTS       5\n",
      "..             ...    ...    ...          ...  ..    ...     ...\n",
      "986            986   East     UK    Domonique   S   ARTS       5\n",
      "990            990  North     EU        Kacie   S   ARTS       8\n",
      "991            991   East     UK        Jodie   S   ARTS       3\n",
      "995            995  South  China         Mike   S   ARTS       5\n",
      "996            996  North     US        Chloe   S   ARTS       5\n",
      "\n",
      "[401 rows x 7 columns]\n"
     ]
    }
   ],
   "source": [
    "StudentInfoDataFrameFiltered = StudentInfoDataFrameFiltered[(StudentInfoDataFrameFiltered['Course'] == 'ARTS') ]\n",
    "print(StudentInfoDataFrameFiltered)"
   ]
  },
  {
   "cell_type": "code",
   "execution_count": null,
   "id": "0e37854e",
   "metadata": {},
   "outputs": [],
   "source": []
  }
 ],
 "metadata": {
  "kernelspec": {
   "display_name": "Python 3 (ipykernel)",
   "language": "python",
   "name": "python3"
  },
  "language_info": {
   "codemirror_mode": {
    "name": "ipython",
    "version": 3
   },
   "file_extension": ".py",
   "mimetype": "text/x-python",
   "name": "python",
   "nbconvert_exporter": "python",
   "pygments_lexer": "ipython3",
   "version": "3.9.7"
  }
 },
 "nbformat": 4,
 "nbformat_minor": 5
}
