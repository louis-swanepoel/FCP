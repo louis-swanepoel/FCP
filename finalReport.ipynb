{
 "cells": [
  {
   "cell_type": "markdown",
   "id": "3bdcba66",
   "metadata": {},
   "source": [
    "This script is a programme that is used to determine SIR rates in the Bristol University first year population using an agent based modelling system. In order to run, the programme must be given initial conditions which include a text file of the names of all the people in the population and initial infection proportions for the top five most prevelent nationalities entering the university at the start of term.\n",
    "\n",
    "The Script is comprised of 4 modules. The Main.py, Metrics.py, Functions.py and Assignments.py. Assignments.py initiates the Person class in a few steps. The first step is.........."
   ]
  },
  {
   "cell_type": "code",
   "execution_count": null,
   "id": "0fed4796",
   "metadata": {},
   "outputs": [],
   "source": []
  },
  {
   "cell_type": "markdown",
   "id": "d5feff2e",
   "metadata": {},
   "source": [
    "LUDO WRITE ABOUT THE CODE YOU MADE FOR ASSIGNMENTS "
   ]
  },
  {
   "cell_type": "markdown",
   "id": "c01ae1ee",
   "metadata": {},
   "source": [
    "Metrics.py contains the functions which prepare the data for visualisation aswell as collecting the relevant data which the user wants to see. The main function in this module is CreateDataFrame(). This function does not take any arguments. It iterates through the attributes of the Person class and adds these as columns. Subsequently it adds the attribute data to a column list for each student. The Function then returns a pandas data frame of this data. "
   ]
  },
  {
   "cell_type": "code",
   "execution_count": 3,
   "id": "616ab335",
   "metadata": {},
   "outputs": [
    {
     "name": "stdout",
     "output_type": "stream",
     "text": [
      "     StudentNumber  Halls Origin         Name SIR Course    Social  \\\n",
      "0                0   East     UK      Michael   S   STEM  3.591004   \n",
      "1                1  South     EU  Christopher   S   STEM  3.432075   \n",
      "2                2   West     UK      Jessica   S   STEM  3.987709   \n",
      "3                3  North     UK      Matthew   S   ARTS  3.805069   \n",
      "4                4  North     UK       Ashley   S   STEM  4.877696   \n",
      "..             ...    ...    ...          ...  ..    ...       ...   \n",
      "995            995  South     UK         Mike   S   STEM  4.275520   \n",
      "996            996  North     UK        Chloe   S   STEM  4.978867   \n",
      "997            997   East  China       Alecia   S   ARTS  3.844541   \n",
      "998            998  South     UK          Sam   S   ARTS  1.495135   \n",
      "999            999   West     UK        Rocio   S   ARTS  2.665871   \n",
      "\n",
      "    DayInfected DayRecovered  \n",
      "0        [0, 0]       [0, 0]  \n",
      "1        [0, 0]       [0, 0]  \n",
      "2        [0, 0]       [0, 0]  \n",
      "3        [0, 0]       [0, 0]  \n",
      "4        [0, 0]       [0, 0]  \n",
      "..          ...          ...  \n",
      "995      [0, 0]       [0, 0]  \n",
      "996      [0, 0]       [0, 0]  \n",
      "997      [0, 0]       [0, 0]  \n",
      "998      [0, 0]       [0, 0]  \n",
      "999      [0, 0]       [0, 0]  \n",
      "\n",
      "[1000 rows x 9 columns]\n"
     ]
    }
   ],
   "source": [
    "import pandas as pd \n",
    "import random as r\n",
    "import Assignments as s\n",
    "\n",
    "# Function to create dataframe of students information  -- returns dataframe of all the students attributes \n",
    "def CreateDataFrame():\n",
    "    \n",
    "    # Creation of empty variable list to append column headings\n",
    "    Columns = []\n",
    "\n",
    "    # Create empty dictionary for values of each column for each student\n",
    "    StudentsDict = {}\n",
    "\n",
    "    # Iterates through the attributes of each student defined by the Person class and assigns an empty list to each one\n",
    "    for keys, values in vars(s.StudentObjects[0]).items():\n",
    "        Columns.append(keys)\n",
    "        StudentsDict[keys] = []\n",
    "\n",
    "    # Iterate through Student Numbers \n",
    "    for StudentNumber in range(s.PopulationSize):  \n",
    "\n",
    "        # Extract student as an object \n",
    "        StudentInfo = s.StudentObjects[StudentNumber]\n",
    "\n",
    "        # Extract student attributes iteratively and add to the list which is a value of the attribute key\n",
    "        for column in Columns:\n",
    "            value = getattr(StudentInfo, column)\n",
    "            StudentsDict[column].append(value) \n",
    "            \n",
    "     # Convert dictionary into a pandas dataframe \n",
    "    StudentInfoDataFrame = pd.DataFrame(StudentsDict) \n",
    "    \n",
    "    return StudentInfoDataFrame\n",
    "\n",
    "print(CreateDataFrame())\n",
    "        "
   ]
  },
  {
   "cell_type": "markdown",
   "id": "379176b8",
   "metadata": {},
   "source": [
    "Another very important function in the Metrics.py module is the CollectSIRdata(S,I,R) function. This uses the SIRinfoFilter function to collect all the people of the same SIR statuses and adds the proportion of the population they make up to a list to be used later in the Main data series for each status. In the Main.py, this function is called every day in order to collect the data on how the infection function for that day has affected the population. There is an easy option to collect the frequency aswell as a variable earlier on in the function that doesnt take into accoun the population size. "
   ]
  },
  {
   "cell_type": "code",
   "execution_count": 5,
   "id": "eed2a2e0",
   "metadata": {},
   "outputs": [],
   "source": [
    "# Function to collect SIR data for population -- returns a dataframe of proportiona and frequency against SIR \n",
    "def CollectSIRdata(S,I,R):\n",
    "    \n",
    "    # Uses SIRinfoFilter to find all the people of SIR values respectively \n",
    "    todaysFrequencyS = len(SIRinfoFilter('S', None, None, None, None, True,True))\n",
    "    todaysFrequencyI = len(SIRinfoFilter('I', None, None, None, None, True,True))\n",
    "    todaysFrequencyR = len(SIRinfoFilter('R', None, None, None, None, True,True))\n",
    "    \n",
    "    # Find Proportion\n",
    "    todaysProportionS = todaysFrequencyS/s.PopulationSize\n",
    "    todaysProportionI = todaysFrequencyI/s.PopulationSize\n",
    "    todaysProportionR = todaysFrequencyR/s.PopulationSize\n",
    "    \n",
    "    proportionsSIR = [todaysProportionS,todaysProportionI,todaysProportionR]\n",
    "    \n",
    "    S.append(proportionsSIR[0])\n",
    "    I.append(proportionsSIR[1])\n",
    "    R.append(proportionsSIR[2])     "
   ]
  },
  {
   "cell_type": "markdown",
   "id": "76bd839e",
   "metadata": {},
   "source": [
    "The most important and versatile function in the Metrics.py module is the SIRinfoFilter function. This function is reused throughout the code as it allows a user to return a dataframe containing all the agents of the population that have attributes specified as an argument in the function. Another feauture of the function is a variable which allows a conditional day for the function to be called aswell. "
   ]
  },
  {
   "cell_type": "code",
   "execution_count": null,
   "id": "96b57191",
   "metadata": {},
   "outputs": [],
   "source": [
    "def SIRinfoFilter(SIRstatus, Origin, Name, Halls, Course, Day,CollectDataDay):\n",
    "    \n",
    "    if Day == CollectDataDay:\n",
    "        \n",
    "        # Reuses CreateDataframe function to produce a data frame of all students data\n",
    "        StudentInfoDataFrame = CreateDataFrame()\n",
    "        \n",
    "        #   Checks to see if each respective attribute to be filtered by was defined when inputting the function \n",
    "        if isinstance(SIRstatus,str) == True:    \n",
    "            \n",
    "            # If it was defined then it adds the filtering condition tot the dataframe\n",
    "            StudentInfoDataFrameFiltered = StudentInfoDataFrame[(StudentInfoDataFrame['SIR'] == SIRstatus)]   \n",
    "        else:\n",
    "            \n",
    "            # If no infomation was given to filter then it does not filter it by the variable and says so to the user       \n",
    "            StudentInfoDataFrameFiltered = StudentInfoDataFrame[~(StudentInfoDataFrame['SIR'] == SIRstatus)] \n",
    "            \n",
    "        \n",
    "        # These steps are repeated for each attribute that could be filtered by  \n",
    "        if isinstance(Origin,str) == True:       \n",
    "            StudentInfoDataFrameFiltered = StudentInfoDataFrameFiltered[(StudentInfoDataFrameFiltered['Origin'] == Origin) ]\n",
    "        else:        \n",
    "            StudentInfoDataFrameFiltered = StudentInfoDataFrameFiltered[~(StudentInfoDataFrameFiltered['Origin'] == Origin) ]\n",
    "            \n",
    "        \n",
    "        if isinstance(Name,str) == True:       \n",
    "            StudentInfoDataFrameFiltered = StudentInfoDataFrameFiltered[(StudentInfoDataFrameFiltered['Name'] == Name) ]\n",
    "        else:         \n",
    "            StudentInfoDataFrameFiltered = StudentInfoDataFrameFiltered[~(StudentInfoDataFrameFiltered['Name'] == Name) ]\n",
    "            \n",
    "        \n",
    "        if isinstance(Halls,str) == True:\n",
    "            StudentInfoDataFrameFiltered = StudentInfoDataFrameFiltered[(StudentInfoDataFrameFiltered['Halls'] == Halls) ]\n",
    "        else:         \n",
    "            StudentInfoDataFrameFiltered = StudentInfoDataFrameFiltered[~(StudentInfoDataFrameFiltered['Halls'] == Halls) ]\n",
    "                 \n",
    "            \n",
    "        if isinstance(Course,str) == True:\n",
    "            StudentInfoDataFrameFiltered = StudentInfoDataFrameFiltered[(StudentInfoDataFrameFiltered['Course'] == Course) ]\n",
    "        else:        \n",
    "            StudentInfoDataFrameFiltered = StudentInfoDataFrameFiltered[~(StudentInfoDataFrameFiltered['Course'] == Course) ]\n",
    "             \n",
    "        \n",
    "        # The filtered dataframe is returned\n",
    "        return  StudentInfoDataFrameFiltered    \n",
    "                         "
   ]
  },
  {
   "cell_type": "markdown",
   "id": "f8d2f820",
   "metadata": {},
   "source": [
"The result of these functions and classes enable us to be able to manipulate a lot of data in quite a few ways. The following code is largely reused, with variable and position changes in order to show different plots, such as the distrbution of SIR quantities within different courses, halls and nationalitys."
   ]
  },
  {
   "cell_type": "code",
   "execution_count": null,
   "id": "fd5c54f2",
   "metadata": {},
   "outputs": [],
   "source": [
    "def BarChartCountries(Day, DateRange,CollectDataDay):\n",
    "    \n",
    "    if Day == CollectDataDay:\n",
    "        \n",
    "        countries = 'China' , 'US' , 'UK' , 'EU'\n",
    "\n",
    "        SIRinputChoice = input('input S,I,R for SIR vals in y axis for countries plot:')\n",
    "        \n",
    "        if SIRinputChoice == 'S':\n",
    "            yAxisName = \"Susceptible\"\n",
    "        elif SIRinputChoice == 'I':\n",
    "            yAxisName = \"Infected\"\n",
    "        else:\n",
    "           yAxisName = \"Recovered\"\n",
    "        \n",
    "        china = len(SIRinfoFilter(SIRinputChoice, 'China', None, None, None, Day,Day))\n",
    "        us = len(SIRinfoFilter(SIRinputChoice, 'US', None, None, None, Day,Day))\n",
    "        uk = len(SIRinfoFilter(SIRinputChoice, 'UK', None, None, None, Day,Day))\n",
    "        eu = len(SIRinfoFilter(SIRinputChoice, 'EU', None, None, None, Day,Day))\n",
    "        \n",
    "        SIR = [china,us,uk,eu]\n",
    "    \n",
    "        plt.bar(countries,SIR)\n",
    "        plt.title('Nationality infection data:'+ str(DateRange[Day]))\n",
    "        plt.xlabel('Nationality')\n",
    "        plt.ylabel(yAxisName)\n",
    "        plt.show()\n",
    "        df = (CreateDataFrame())\n",
    "        MainData = pd.ExcelWriter('MainSpreadsheet.xlsx')\n",
    "        df.to_excel(MainData)\n",
    "        MainData.save()"
   ]
  }
 ],
 "metadata": {
  "kernelspec": {
   "display_name": "Python 3 (ipykernel)",
   "language": "python",
   "name": "python3"
  },
  "language_info": {
   "codemirror_mode": {
    "name": "ipython",
    "version": 3
   },
   "file_extension": ".py",
   "mimetype": "text/x-python",
   "name": "python",
   "nbconvert_exporter": "python",
   "pygments_lexer": "ipython3",
   "version": "3.9.7"
  }
 },
 "nbformat": 4,
 "nbformat_minor": 5
}
