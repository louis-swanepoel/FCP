{
 "cells": [
  {
   "cell_type": "code",
   "execution_count": 171,
   "id": "c694b694",
   "metadata": {},
   "outputs": [],
   "source": [
    "# import names as nm\n",
    "import pandas as pd \n",
    "import random as r\n",
    "import assignments as s\n",
    "import numpy as np \n",
    "import plotly.express as ply\n",
    "import Metrics as m\n",
    "\n"
   ]
  },
  {
   "cell_type": "code",
   "execution_count": 188,
   "id": "90738e2b",
   "metadata": {},
   "outputs": [],
   "source": [
    "def SIRinfoFilter(SIRstatus, Origin, Name, Halls, Course):\n",
    "    \n",
    "    # Reuses CreateDataframe function to produce a data frame of all students data\n",
    "    StudentInfoDataFrame = m.CreateDataFrame()\n",
    "    \n",
    "    #   Checks to see if each respective attribute to be filtered by was defined when inputting the function \n",
    "    if isinstance(SIRstatus,str) == True:    \n",
    "        \n",
    "        # If it was defined then it adds the filtering condition to the dataframe\n",
    "        StudentInfoDataFrameFiltered = StudentInfoDataFrame[(StudentInfoDataFrame['SIR'] == SIRstatus)]   \n",
    "    else:\n",
    "        \n",
    "        # If no infomation was given to filter then it does not filter it by the variable and says so to the user       \n",
    "        StudentInfoDataFrameFiltered = StudentInfoDataFrame[~(StudentInfoDataFrame['SIR'] == SIRstatus)]         \n",
    "    \n",
    "    # These steps are repeated for each attribute that could be filtered by  \n",
    "    if isinstance(Origin,str) == True:       \n",
    "        StudentInfoDataFrameFiltered = StudentInfoDataFrameFiltered[(StudentInfoDataFrameFiltered['Origin'] == Origin) ]\n",
    "    else:        \n",
    "        StudentInfoDataFrameFiltered = StudentInfoDataFrameFiltered[~(StudentInfoDataFrameFiltered['Origin'] == Origin) ]\n",
    "    \n",
    "    if isinstance(Name,str) == True:       \n",
    "        StudentInfoDataFrameFiltered = StudentInfoDataFrameFiltered[(StudentInfoDataFrameFiltered['Name'] == Name) ]\n",
    "    else:         \n",
    "        StudentInfoDataFrameFiltered = StudentInfoDataFrameFiltered[~(StudentInfoDataFrameFiltered['Name'] == Name) ]\n",
    "    \n",
    "    if isinstance(Halls,str) == True:\n",
    "        StudentInfoDataFrameFiltered = StudentInfoDataFrameFiltered[(StudentInfoDataFrameFiltered['Halls'] == Halls) ]\n",
    "    else:         \n",
    "        StudentInfoDataFrameFiltered = StudentInfoDataFrameFiltered[~(StudentInfoDataFrameFiltered['Halls'] == Halls) ]     \n",
    "       \n",
    "    if isinstance(Course,str) == True:\n",
    "        StudentInfoDataFrameFiltered = StudentInfoDataFrameFiltered[(StudentInfoDataFrameFiltered['Course'] == Course) ]\n",
    "    else:        \n",
    "        StudentInfoDataFrameFiltered = StudentInfoDataFrameFiltered[~(StudentInfoDataFrameFiltered['Course'] == Course) ] \n",
    "    \n",
    "    # Creates variable SIRvalsForFilter which containes the SIR numbers for the given situation\n",
    "    SIRvalsForFilter = StudentInfoDataFrameFiltered['SIR'].value_counts()\n",
    "    \n",
    "    # The filtered dataframe is returned\n",
    "    return  StudentInfoDataFrameFiltered  , SIRvalsForFilter\n",
    "\n",
    "         \n"
   ]
  },
  {
   "cell_type": "code",
   "execution_count": null,
   "id": "77be0875",
   "metadata": {
    "scrolled": true
   },
   "outputs": [],
   "source": [
    "    "
   ]
  },
  {
   "cell_type": "code",
   "execution_count": 191,
   "id": "1202b325",
   "metadata": {},
   "outputs": [
    {
     "name": "stdout",
     "output_type": "stream",
     "text": [
      "I    55\n",
      "Name: SIR, dtype: int64\n"
     ]
    }
   ],
   "source": [
    "StudentInfoDataFrameFiltered,SIRvalsForFilter = SIRinfoFilter('I','UK',None,'North',None)\n",
    "\n",
    "print(SIRvalsForFilter)\n",
    "  "
   ]
  },
  {
   "cell_type": "code",
   "execution_count": null,
   "id": "f3337edb",
   "metadata": {},
   "outputs": [],
   "source": []
  },
  {
   "cell_type": "code",
   "execution_count": null,
   "id": "e7bb4775",
   "metadata": {},
   "outputs": [],
   "source": []
  }
 ],
 "metadata": {
  "kernelspec": {
   "display_name": "Python 3 (ipykernel)",
   "language": "python",
   "name": "python3"
  },
  "language_info": {
   "codemirror_mode": {
    "name": "ipython",
    "version": 3
   },
   "file_extension": ".py",
   "mimetype": "text/x-python",
   "name": "python",
   "nbconvert_exporter": "python",
   "pygments_lexer": "ipython3",
   "version": "3.9.7"
  }
 },
 "nbformat": 4,
 "nbformat_minor": 5
}
